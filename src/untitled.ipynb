{
 "cells": [
  {
   "cell_type": "markdown",
   "metadata": {},
   "source": [
    "# LSTM for Time Series Analysis"
   ]
  },
  {
   "cell_type": "markdown",
   "metadata": {},
   "source": [
    "We will use the **LSTM RNN** for forecasting Bitcoin trade data. We take in sequence of previous data with all dimensions and predict the *High* value. "
   ]
  },
  {
   "cell_type": "code",
   "execution_count": 298,
   "metadata": {},
   "outputs": [
    {
     "name": "stdout",
     "output_type": "stream",
     "text": [
      "False\n"
     ]
    }
   ],
   "source": [
    "import sklearn.preprocessing as sk\n",
    "\n",
    "import torch\n",
    "import torch.nn as nn\n",
    "import torch.nn.functional as F\n",
    "from torch.utils.data import Dataset\n",
    "from torch.utils.data import TensorDataset\n",
    "from torch.utils.data import sampler\n",
    "from torch.utils.data import DataLoader\n",
    "\n",
    "import matplotlib.pyplot as plt\n",
    "import numpy as np\n",
    "import pandas as pd\n",
    "\n",
    "device = torch.device('cuda') if torch.cuda.is_available() else 'cpu'\n",
    "print(torch.cuda.is_available())"
   ]
  },
  {
   "cell_type": "markdown",
   "metadata": {},
   "source": [
    "First read the data and preview"
   ]
  },
  {
   "cell_type": "code",
   "execution_count": 299,
   "metadata": {},
   "outputs": [
    {
     "data": {
      "text/html": [
       "<div>\n",
       "<style scoped>\n",
       "    .dataframe tbody tr th:only-of-type {\n",
       "        vertical-align: middle;\n",
       "    }\n",
       "\n",
       "    .dataframe tbody tr th {\n",
       "        vertical-align: top;\n",
       "    }\n",
       "\n",
       "    .dataframe thead th {\n",
       "        text-align: right;\n",
       "    }\n",
       "</style>\n",
       "<table border=\"1\" class=\"dataframe\">\n",
       "  <thead>\n",
       "    <tr style=\"text-align: right;\">\n",
       "      <th></th>\n",
       "      <th>Unix Timestamp</th>\n",
       "      <th>Date</th>\n",
       "      <th>Symbol</th>\n",
       "      <th>Open</th>\n",
       "      <th>High</th>\n",
       "      <th>Low</th>\n",
       "      <th>Close</th>\n",
       "      <th>Volume</th>\n",
       "    </tr>\n",
       "  </thead>\n",
       "  <tbody>\n",
       "    <tr>\n",
       "      <th>0</th>\n",
       "      <td>1642737600000</td>\n",
       "      <td>2022-01-21 04:00:00</td>\n",
       "      <td>BTCUSD</td>\n",
       "      <td>38462.49</td>\n",
       "      <td>39289.82</td>\n",
       "      <td>35389.69</td>\n",
       "      <td>36356.59</td>\n",
       "      <td>3462.668751</td>\n",
       "    </tr>\n",
       "    <tr>\n",
       "      <th>1</th>\n",
       "      <td>1642651200000</td>\n",
       "      <td>2022-01-20 04:00:00</td>\n",
       "      <td>BTCUSD</td>\n",
       "      <td>41954.50</td>\n",
       "      <td>43516.85</td>\n",
       "      <td>38260.00</td>\n",
       "      <td>38462.49</td>\n",
       "      <td>2551.473106</td>\n",
       "    </tr>\n",
       "    <tr>\n",
       "      <th>2</th>\n",
       "      <td>1642564800000</td>\n",
       "      <td>2022-01-19 04:00:00</td>\n",
       "      <td>BTCUSD</td>\n",
       "      <td>41712.63</td>\n",
       "      <td>42580.05</td>\n",
       "      <td>41156.28</td>\n",
       "      <td>41954.50</td>\n",
       "      <td>1214.411904</td>\n",
       "    </tr>\n",
       "    <tr>\n",
       "      <th>3</th>\n",
       "      <td>1642478400000</td>\n",
       "      <td>2022-01-18 04:00:00</td>\n",
       "      <td>BTCUSD</td>\n",
       "      <td>42052.76</td>\n",
       "      <td>42679.80</td>\n",
       "      <td>41281.06</td>\n",
       "      <td>41712.63</td>\n",
       "      <td>1130.901551</td>\n",
       "    </tr>\n",
       "    <tr>\n",
       "      <th>4</th>\n",
       "      <td>1642392000000</td>\n",
       "      <td>2022-01-17 04:00:00</td>\n",
       "      <td>BTCUSD</td>\n",
       "      <td>42655.12</td>\n",
       "      <td>42976.61</td>\n",
       "      <td>41559.11</td>\n",
       "      <td>42052.76</td>\n",
       "      <td>636.137418</td>\n",
       "    </tr>\n",
       "  </tbody>\n",
       "</table>\n",
       "</div>"
      ],
      "text/plain": [
       "   Unix Timestamp                 Date  Symbol      Open      High       Low  \\\n",
       "0   1642737600000  2022-01-21 04:00:00  BTCUSD  38462.49  39289.82  35389.69   \n",
       "1   1642651200000  2022-01-20 04:00:00  BTCUSD  41954.50  43516.85  38260.00   \n",
       "2   1642564800000  2022-01-19 04:00:00  BTCUSD  41712.63  42580.05  41156.28   \n",
       "3   1642478400000  2022-01-18 04:00:00  BTCUSD  42052.76  42679.80  41281.06   \n",
       "4   1642392000000  2022-01-17 04:00:00  BTCUSD  42655.12  42976.61  41559.11   \n",
       "\n",
       "      Close       Volume  \n",
       "0  36356.59  3462.668751  \n",
       "1  38462.49  2551.473106  \n",
       "2  41954.50  1214.411904  \n",
       "3  41712.63  1130.901551  \n",
       "4  42052.76   636.137418  "
      ]
     },
     "execution_count": 299,
     "metadata": {},
     "output_type": "execute_result"
    }
   ],
   "source": [
    "training_set = pd.read_csv('../data/gemini_BTCUSD_day.csv')\n",
    "training_set.head()"
   ]
  },
  {
   "cell_type": "markdown",
   "metadata": {},
   "source": [
    "## Pre-processing the data"
   ]
  },
  {
   "cell_type": "code",
   "execution_count": 300,
   "metadata": {},
   "outputs": [
    {
     "data": {
      "text/html": [
       "<div>\n",
       "<style scoped>\n",
       "    .dataframe tbody tr th:only-of-type {\n",
       "        vertical-align: middle;\n",
       "    }\n",
       "\n",
       "    .dataframe tbody tr th {\n",
       "        vertical-align: top;\n",
       "    }\n",
       "\n",
       "    .dataframe thead th {\n",
       "        text-align: right;\n",
       "    }\n",
       "</style>\n",
       "<table border=\"1\" class=\"dataframe\">\n",
       "  <thead>\n",
       "    <tr style=\"text-align: right;\">\n",
       "      <th></th>\n",
       "      <th>Open</th>\n",
       "      <th>High</th>\n",
       "      <th>Low</th>\n",
       "      <th>Close</th>\n",
       "      <th>Volume</th>\n",
       "    </tr>\n",
       "  </thead>\n",
       "  <tbody>\n",
       "    <tr>\n",
       "      <th>0</th>\n",
       "      <td>38462.49</td>\n",
       "      <td>39289.82</td>\n",
       "      <td>35389.69</td>\n",
       "      <td>36356.59</td>\n",
       "      <td>3462.668751</td>\n",
       "    </tr>\n",
       "    <tr>\n",
       "      <th>1</th>\n",
       "      <td>41954.50</td>\n",
       "      <td>43516.85</td>\n",
       "      <td>38260.00</td>\n",
       "      <td>38462.49</td>\n",
       "      <td>2551.473106</td>\n",
       "    </tr>\n",
       "    <tr>\n",
       "      <th>2</th>\n",
       "      <td>41712.63</td>\n",
       "      <td>42580.05</td>\n",
       "      <td>41156.28</td>\n",
       "      <td>41954.50</td>\n",
       "      <td>1214.411904</td>\n",
       "    </tr>\n",
       "    <tr>\n",
       "      <th>3</th>\n",
       "      <td>42052.76</td>\n",
       "      <td>42679.80</td>\n",
       "      <td>41281.06</td>\n",
       "      <td>41712.63</td>\n",
       "      <td>1130.901551</td>\n",
       "    </tr>\n",
       "    <tr>\n",
       "      <th>4</th>\n",
       "      <td>42655.12</td>\n",
       "      <td>42976.61</td>\n",
       "      <td>41559.11</td>\n",
       "      <td>42052.76</td>\n",
       "      <td>636.137418</td>\n",
       "    </tr>\n",
       "  </tbody>\n",
       "</table>\n",
       "</div>"
      ],
      "text/plain": [
       "       Open      High       Low     Close       Volume\n",
       "0  38462.49  39289.82  35389.69  36356.59  3462.668751\n",
       "1  41954.50  43516.85  38260.00  38462.49  2551.473106\n",
       "2  41712.63  42580.05  41156.28  41954.50  1214.411904\n",
       "3  42052.76  42679.80  41281.06  41712.63  1130.901551\n",
       "4  42655.12  42976.61  41559.11  42052.76   636.137418"
      ]
     },
     "execution_count": 300,
     "metadata": {},
     "output_type": "execute_result"
    }
   ],
   "source": [
    "training_set = training_set[['Open', 'High', 'Low', 'Close','Volume']]\n",
    "\n",
    "# Appropriate scaling to avoid large values\n",
    "x_scaler = sk.MinMaxScaler(feature_range = (0, 1))\n",
    "y_scaler = sk.MinMaxScaler(feature_range = (0, 1))\n",
    "\n",
    "# Transforming into standardized data\n",
    "x_data = x_scaler.fit_transform(training_set)\n",
    "y_data = y_scaler.fit_transform(training_set[['High']])\n",
    "\n",
    "training_set.head()"
   ]
  },
  {
   "cell_type": "markdown",
   "metadata": {},
   "source": [
    "We define our own `Dataset` for convenience"
   ]
  },
  {
   "cell_type": "code",
   "execution_count": 301,
   "metadata": {},
   "outputs": [],
   "source": [
    "class MyDset(Dataset):\n",
    "\n",
    "    def __init__(self, data, target, window, horizon=0):\n",
    "        x_vals = []\n",
    "        y_vals = []\n",
    "        start = 0 + window \n",
    "        end = len(data) - horizon\n",
    "\n",
    "        for i in range(start, end):\n",
    "            x = data[(i-window):i,:]\n",
    "            y = target[i:(i+horizon),:]\n",
    "            x_vals.append(x)\n",
    "            y_vals.append(y)\n",
    "\n",
    "        tensor_x = torch.Tensor(x_vals)\n",
    "        tensor_y = torch.Tensor(y_vals)\n",
    "\n",
    "        self.data = tensor_x\n",
    "        self.target = tensor_y.flatten(1)\n",
    "    \n",
    "    def __getitem__(self, index):\n",
    "        x = self.data[index]\n",
    "        y = self.target[index]\n",
    "        return x, y\n",
    "    \n",
    "    def __len__(self):\n",
    "        return len(self.data)"
   ]
  },
  {
   "cell_type": "markdown",
   "metadata": {},
   "source": [
    "We create the `Dataloader` objects. We will reserve the `loader_test` for later."
   ]
  },
  {
   "cell_type": "code",
   "execution_count": 302,
   "metadata": {},
   "outputs": [],
   "source": [
    "horizon = 1\n",
    "set_train = MyDset(x_data, y_data, window=100, horizon = horizon)\n",
    "batch_size = 20\n",
    "train_split = int(0.8*(len(set_train)))\n",
    "\n",
    "loader_train = DataLoader(set_train, batch_size = batch_size,\\\n",
    "   sampler=sampler.SubsetRandomSampler(range(train_split)))\n",
    "   \n",
    "loader_test = DataLoader(set_train, batch_size = batch_size,\\\n",
    "   sampler=sampler.SubsetRandomSampler(range(train_split, len(set_train))))"
   ]
  },
  {
   "cell_type": "markdown",
   "metadata": {},
   "source": [
    "Debugging"
   ]
  },
  {
   "cell_type": "code",
   "execution_count": 303,
   "metadata": {},
   "outputs": [
    {
     "name": "stdout",
     "output_type": "stream",
     "text": [
      "torch.Size([20, 100, 5])\n",
      "tensor([0.2790])\n"
     ]
    }
   ],
   "source": [
    "for t, (x,y) in enumerate(loader_train):\n",
    "    print(x.shape)\n",
    "    print(y[0])\n",
    "    break"
   ]
  },
  {
   "cell_type": "markdown",
   "metadata": {},
   "source": [
    "## Implementing the model"
   ]
  },
  {
   "cell_type": "markdown",
   "metadata": {},
   "source": [
    "We use **LSTM** recurrent neural network with a fully connected layer."
   ]
  },
  {
   "cell_type": "code",
   "execution_count": 304,
   "metadata": {},
   "outputs": [],
   "source": [
    "class RNN(nn.Module):\n",
    "    '''Implement the LSTM model for forecasting.'''\n",
    "    def __init__(self, input_size, hidden_size, \\\n",
    "        num_layer, num_class = 1):\n",
    "\n",
    "        super(RNN, self).__init__()\n",
    "        self.input_size = input_size\n",
    "        self.hidden_size = hidden_size\n",
    "        self.num_layer = num_layer\n",
    "        self.num_class = num_class\n",
    "\n",
    "        self.lstm = nn.LSTM(input_size, hidden_size, num_layer, \\\n",
    "            batch_first = True) # initial hidden and cell state default 0\n",
    "\n",
    "        self.fc = nn.Linear(hidden_size, num_class)\n",
    "\n",
    "    def forward(self, input):\n",
    "        \n",
    "        _out , (h_out, _) = self.lstm(input) # output of LSTM is out,(hidden,cell)\n",
    "\n",
    "        r = h_out.view(-1, self.hidden_size) # reshape to use linear for prediction\n",
    "\n",
    "        output = self.fc(r)\n",
    "\n",
    "        return output"
   ]
  },
  {
   "cell_type": "markdown",
   "metadata": {},
   "source": [
    "Testing and debugging"
   ]
  },
  {
   "cell_type": "code",
   "execution_count": 305,
   "metadata": {},
   "outputs": [
    {
     "data": {
      "text/plain": [
       "torch.Size([20, 1])"
      ]
     },
     "execution_count": 305,
     "metadata": {},
     "output_type": "execute_result"
    }
   ],
   "source": [
    "x = torch.zeros([20,100,5])\n",
    "input_size = 5\n",
    "hidden_size = 10\n",
    "num_layer = 1\n",
    "num_class = horizon\n",
    "\n",
    "model = RNN(input_size, hidden_size, num_layer, num_class)\n",
    "model(x).shape"
   ]
  },
  {
   "cell_type": "markdown",
   "metadata": {},
   "source": [
    "# Training"
   ]
  },
  {
   "cell_type": "markdown",
   "metadata": {},
   "source": [
    "We train with *mean squared error* loss and optimizer *Adam*"
   ]
  },
  {
   "cell_type": "code",
   "execution_count": 306,
   "metadata": {},
   "outputs": [],
   "source": [
    "input_size = 5\n",
    "hidden_size = 10\n",
    "num_layer = 1\n",
    "num_class = horizon\n",
    "model = RNN(input_size, hidden_size, num_layer, num_class)\n",
    "\n",
    "\n",
    "learning_rate = 1e-2\n",
    "criterion = nn.MSELoss()\n",
    "optimizer = torch.optim.Adam(model.parameters(), lr=learning_rate)\n",
    "epochs = 20"
   ]
  },
  {
   "cell_type": "code",
   "execution_count": 307,
   "metadata": {},
   "outputs": [
    {
     "name": "stdout",
     "output_type": "stream",
     "text": [
      "Epoch 0 Iteration 0, loss = 0.11115764\n",
      "0\n",
      "Epoch 1 Iteration 0, loss = 0.00010337\n",
      "0\n",
      "Epoch 2 Iteration 0, loss = 0.00003006\n",
      "0\n",
      "Epoch 3 Iteration 0, loss = 0.00021940\n",
      "0\n",
      "Epoch 4 Iteration 0, loss = 0.00015896\n",
      "0\n",
      "Epoch 5 Iteration 0, loss = 0.00029795\n",
      "0\n",
      "Epoch 6 Iteration 0, loss = 0.00003157\n",
      "0\n",
      "Epoch 7 Iteration 0, loss = 0.00017528\n",
      "0\n",
      "Epoch 8 Iteration 0, loss = 0.00002315\n",
      "0\n",
      "Epoch 9 Iteration 0, loss = 0.00019467\n",
      "0\n",
      "Epoch 10 Iteration 0, loss = 0.00083331\n",
      "0\n",
      "Epoch 11 Iteration 0, loss = 0.00031066\n",
      "0\n",
      "Epoch 12 Iteration 0, loss = 0.00008946\n",
      "0\n",
      "Epoch 13 Iteration 0, loss = 0.00013476\n",
      "0\n",
      "Epoch 14 Iteration 0, loss = 0.00015899\n",
      "0\n",
      "Epoch 15 Iteration 0, loss = 0.00004319\n",
      "0\n",
      "Epoch 16 Iteration 0, loss = 0.00002169\n",
      "0\n",
      "Epoch 17 Iteration 0, loss = 0.00017866\n",
      "0\n",
      "Epoch 18 Iteration 0, loss = 0.00015308\n",
      "0\n",
      "Epoch 19 Iteration 0, loss = 0.00007225\n",
      "0\n"
     ]
    }
   ],
   "source": [
    "print_every = 100\n",
    "for e in range(epochs):\n",
    "\n",
    "    for t, (x,y) in enumerate(loader_train):\n",
    "\n",
    "        model.train()  # put model to training mode\n",
    "\n",
    "        x = x.to(device=device, dtype=torch.float32)\n",
    "        y = y.to(device=device, dtype=torch.float32)\n",
    "\n",
    "        scores = model(x)\n",
    "        \n",
    "        loss = criterion(scores, y)\n",
    "\n",
    "        optimizer.zero_grad()\n",
    "\n",
    "        loss.backward()\n",
    "\n",
    "        optimizer.step()\n",
    "\n",
    "        if t % print_every == 0:\n",
    "            print('Epoch %d Iteration %d, loss = %.8f' % (e, t, loss.item()))\n",
    "            print(t)\n",
    "\n",
    "torch.save(model.state_dict(), 'LSTM.ckpt')"
   ]
  },
  {
   "cell_type": "markdown",
   "metadata": {},
   "source": [
    "# Testing"
   ]
  },
  {
   "cell_type": "markdown",
   "metadata": {},
   "source": [
    "We provide an example to visualize this"
   ]
  },
  {
   "cell_type": "code",
   "execution_count": 308,
   "metadata": {},
   "outputs": [
    {
     "name": "stdout",
     "output_type": "stream",
     "text": [
      "22\n",
      "tensor([[[5.4517e-03, 1.8967e-03, 5.5737e-03, 1.8878e-03, 1.8985e-02],\n",
      "         [5.4610e-03, 1.9488e-03, 5.5768e-03, 1.9036e-03, 1.6985e-02],\n",
      "         [5.5389e-03, 1.9635e-03, 5.5328e-03, 1.9129e-03, 4.2013e-03],\n",
      "         ...,\n",
      "         [4.3543e-03, 9.3084e-04, 4.5030e-03, 9.2835e-04, 2.2248e-02],\n",
      "         [4.2566e-03, 7.8540e-04, 4.3543e-03, 8.0226e-04, 1.2010e-02],\n",
      "         [4.1590e-03, 7.5616e-04, 4.2858e-03, 7.0428e-04, 8.8707e-03]],\n",
      "\n",
      "        [[1.8628e-02, 1.5184e-02, 1.9242e-02, 1.5257e-02, 6.0780e-02],\n",
      "         [1.8460e-02, 1.5053e-02, 1.8792e-02, 1.5127e-02, 3.3188e-02],\n",
      "         [1.8752e-02, 1.5170e-02, 1.8729e-02, 1.4959e-02, 3.0877e-02],\n",
      "         ...,\n",
      "         [1.0711e-02, 7.1320e-03, 1.1045e-02, 7.1802e-03, 3.8158e-02],\n",
      "         [1.0697e-02, 7.1209e-03, 1.0938e-02, 7.1818e-03, 4.7482e-02],\n",
      "         [1.0671e-02, 7.1121e-03, 1.0992e-02, 7.1672e-03, 2.4971e-02]],\n",
      "\n",
      "        [[5.6071e-03, 2.0575e-03, 5.7296e-03, 2.0064e-03, 3.2064e-03],\n",
      "         [5.4121e-03, 2.1068e-03, 5.3321e-03, 2.0595e-03, 1.2411e-02],\n",
      "         [6.1342e-03, 2.5504e-03, 5.3702e-03, 1.8639e-03, 3.3066e-02],\n",
      "         ...,\n",
      "         [3.6334e-03, 5.7887e-05, 3.7087e-03, 3.1487e-05, 1.3122e-03],\n",
      "         [3.5943e-03, 6.5450e-05, 3.7119e-03, 7.8791e-05, 4.2013e-04],\n",
      "         [3.5827e-03, 1.8908e-05, 3.6914e-03, 3.9542e-05, 5.7017e-04]],\n",
      "\n",
      "        ...,\n",
      "\n",
      "        [[9.2894e-03, 5.7682e-03, 9.5445e-03, 5.7976e-03, 5.8536e-02],\n",
      "         [9.3391e-03, 5.7446e-03, 9.5777e-03, 5.7549e-03, 5.8177e-02],\n",
      "         [9.3000e-03, 5.7450e-03, 9.5792e-03, 5.8049e-03, 7.0074e-02],\n",
      "         ...,\n",
      "         [9.5849e-03, 6.0649e-03, 9.4372e-03, 5.9557e-03, 2.5643e-02],\n",
      "         [9.3655e-03, 6.0753e-03, 9.6631e-03, 6.0515e-03, 1.6740e-02],\n",
      "         [9.8229e-03, 6.2267e-03, 9.2262e-03, 5.8314e-03, 3.8057e-02]],\n",
      "\n",
      "        [[1.5756e-02, 1.2939e-02, 1.6294e-02, 1.2872e-02, 7.7178e-02],\n",
      "         [1.5312e-02, 1.2225e-02, 1.5835e-02, 1.2245e-02, 4.8822e-02],\n",
      "         [1.5384e-02, 1.1882e-02, 1.5806e-02, 1.1799e-02, 2.4837e-02],\n",
      "         ...,\n",
      "         [1.0389e-02, 7.2430e-03, 1.0720e-02, 7.3136e-03, 6.2926e-02],\n",
      "         [1.0401e-02, 6.8628e-03, 1.0704e-02, 6.8583e-03, 4.8482e-02],\n",
      "         [1.0281e-02, 6.8354e-03, 1.0509e-02, 6.8705e-03, 3.1737e-02]],\n",
      "\n",
      "        [[1.3304e-02, 9.6965e-03, 1.3525e-02, 9.6256e-03, 1.2960e-02],\n",
      "         [1.2701e-02, 9.8089e-03, 1.2990e-02, 9.7841e-03, 1.5183e-02],\n",
      "         [1.3295e-02, 9.7584e-03, 1.3134e-02, 9.1784e-03, 1.8027e-02],\n",
      "         ...,\n",
      "         [8.8702e-03, 5.2897e-03, 8.9334e-03, 5.1785e-03, 1.6285e-02],\n",
      "         [8.9015e-03, 5.3131e-03, 9.1640e-03, 5.3343e-03, 3.2560e-02],\n",
      "         [8.8489e-03, 5.3086e-03, 9.1510e-03, 5.3657e-03, 4.5488e-03]]])\n"
     ]
    }
   ],
   "source": [
    "test = []\n",
    "test_x = None\n",
    "test_y = None\n",
    "for (x,y) in loader_test:\n",
    "    test.append((x,y))\n",
    "print(len(test))\n",
    "\n",
    "test_x, test_y = test[9]\n",
    "print(test_x)"
   ]
  },
  {
   "cell_type": "code",
   "execution_count": 309,
   "metadata": {},
   "outputs": [
    {
     "data": {
      "text/plain": [
       "[<matplotlib.lines.Line2D at 0x1ea144fdf70>]"
      ]
     },
     "execution_count": 309,
     "metadata": {},
     "output_type": "execute_result"
    },
    {
     "data": {
      "image/png": "[encoded data removed]",
      "text/plain": [
       "<Figure size 720x360 with 1 Axes>"
      ]
     },
     "metadata": {
      "needs_background": "light"
     },
     "output_type": "display_data"
    }
   ],
   "source": [
    "model.eval()\n",
    "\n",
    "predicted = model(test_x).data.numpy()\n",
    "predicted = y_scaler.inverse_transform(predicted)\n",
    "# with torch.no_grad():\n",
    "#     predicted = y_scaler.inverse_transform(predicted)[0]\n",
    "#     test_y = y_scaler.inverse_transform(test_y)[0]\n",
    "\n",
    "plt.figure(figsize=(10,5))\n",
    "plt.plot(predicted)\n"
   ]
  },
  {
   "cell_type": "code",
   "execution_count": 310,
   "metadata": {},
   "outputs": [
    {
     "data": {
      "text/plain": [
       "[<matplotlib.lines.Line2D at 0x1ea0eb63c40>]"
      ]
     },
     "execution_count": 310,
     "metadata": {},
     "output_type": "execute_result"
    },
    {
     "data": {
      "image/png": "[encoded data removed]",
      "text/plain": [
       "<Figure size 432x288 with 1 Axes>"
      ]
     },
     "metadata": {
      "needs_background": "light"
     },
     "output_type": "display_data"
    }
   ],
   "source": [
    "test_y = y_scaler.inverse_transform(test_y)\n",
    "plt.plot(test_y)"
   ]
  },
  {
   "cell_type": "code",
   "execution_count": 311,
   "metadata": {},
   "outputs": [
    {
     "data": {
      "text/plain": [
       "<matplotlib.legend.Legend at 0x1ea0ebd3f40>"
      ]
     },
     "execution_count": 311,
     "metadata": {},
     "output_type": "execute_result"
    },
    {
     "data": {
      "image/png": "[encoded data removed]",
      "text/plain": [
       "<Figure size 432x288 with 1 Axes>"
      ]
     },
     "metadata": {
      "needs_background": "light"
     },
     "output_type": "display_data"
    }
   ],
   "source": [
    "plt.plot(test_y, label=\"real\")\n",
    "plt.plot(predicted, label=\"predicted\")\n",
    "plt.legend()\n"
   ]
  },
  {
   "cell_type": "code",
   "execution_count": 313,
   "metadata": {},
   "outputs": [
    {
     "data": {
      "text/plain": [
       "<All keys matched successfully>"
      ]
     },
     "execution_count": 313,
     "metadata": {},
     "output_type": "execute_result"
    }
   ],
   "source": [
    "input_size = 5\n",
    "hidden_size = 10\n",
    "num_layer = 1\n",
    "num_class = horizon\n",
    "model = RNN(input_size, hidden_size, num_layer, num_class)\n",
    "\n",
    "model.load_state_dict(torch.load(\"..\\src\\LSTM.ckpt\"))"
   ]
  },
  {
   "cell_type": "code",
   "execution_count": null,
   "metadata": {},
   "outputs": [],
   "source": []
  }
 ],
 "metadata": {
  "interpreter": {
   "hash": "a3f9fbbaa18250e09d861f666ab05e97085a7241115cb1945ae796667bcb838e"
  },
  "kernelspec": {
   "display_name": "Python 3.8.12 64-bit ('base': conda)",
   "language": "python",
   "name": "python3"
  },
  "language_info": {
   "codemirror_mode": {
    "name": "ipython",
    "version": 3
   },
   "file_extension": ".py",
   "mimetype": "text/x-python",
   "name": "python",
   "nbconvert_exporter": "python",
   "pygments_lexer": "ipython3",
   "version": "3.8.12"
  },
  "orig_nbformat": 4
 },
 "nbformat": 4,
 "nbformat_minor": 2
}
