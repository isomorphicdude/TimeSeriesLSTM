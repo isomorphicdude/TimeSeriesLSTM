{
 "cells": [
  {
   "cell_type": "markdown",
   "metadata": {},
   "source": [
    "# LSTM for Time Series Analysis"
   ]
  },
  {
   "cell_type": "markdown",
   "metadata": {},
   "source": [
    "We will use the **LSTM RNN** for forecasting Bitcoin trade data. We take in sequence of previous data with all dimensions and predict the *High* value. "
   ]
  },
  {
   "cell_type": "code",
   "execution_count": 1,
   "metadata": {},
   "outputs": [
    {
     "name": "stdout",
     "output_type": "stream",
     "text": [
      "True\n"
     ]
    }
   ],
   "source": [
    "import sklearn.preprocessing as sk\n",
    "\n",
    "import torch\n",
    "import torch.nn as nn\n",
    "import torch.nn.functional as F\n",
    "from torch.utils.data import Dataset\n",
    "from torch.utils.data import TensorDataset\n",
    "from torch.utils.data import sampler\n",
    "from torch.utils.data import DataLoader\n",
    "\n",
    "import matplotlib.pyplot as plt\n",
    "import numpy as np\n",
    "import pandas as pd\n",
    "\n",
    "device = torch.device('cuda') if torch.cuda.is_available() else 'cpu'\n",
    "print(torch.cuda.is_available())"
   ]
  },
  {
   "cell_type": "markdown",
   "metadata": {},
   "source": [
    "First read the data and preview"
   ]
  },
  {
   "cell_type": "code",
   "execution_count": 2,
   "metadata": {},
   "outputs": [
    {
     "data": {
      "text/html": [
       "<div>\n",
       "<style scoped>\n",
       "    .dataframe tbody tr th:only-of-type {\n",
       "        vertical-align: middle;\n",
       "    }\n",
       "\n",
       "    .dataframe tbody tr th {\n",
       "        vertical-align: top;\n",
       "    }\n",
       "\n",
       "    .dataframe thead th {\n",
       "        text-align: right;\n",
       "    }\n",
       "</style>\n",
       "<table border=\"1\" class=\"dataframe\">\n",
       "  <thead>\n",
       "    <tr style=\"text-align: right;\">\n",
       "      <th></th>\n",
       "      <th>Unix Timestamp</th>\n",
       "      <th>Date</th>\n",
       "      <th>Symbol</th>\n",
       "      <th>Open</th>\n",
       "      <th>High</th>\n",
       "      <th>Low</th>\n",
       "      <th>Close</th>\n",
       "      <th>Volume</th>\n",
       "    </tr>\n",
       "  </thead>\n",
       "  <tbody>\n",
       "    <tr>\n",
       "      <th>0</th>\n",
       "      <td>1642737600000</td>\n",
       "      <td>2022-01-21 04:00:00</td>\n",
       "      <td>BTCUSD</td>\n",
       "      <td>38462.49</td>\n",
       "      <td>39289.82</td>\n",
       "      <td>35389.69</td>\n",
       "      <td>36356.59</td>\n",
       "      <td>3462.668751</td>\n",
       "    </tr>\n",
       "    <tr>\n",
       "      <th>1</th>\n",
       "      <td>1642651200000</td>\n",
       "      <td>2022-01-20 04:00:00</td>\n",
       "      <td>BTCUSD</td>\n",
       "      <td>41954.50</td>\n",
       "      <td>43516.85</td>\n",
       "      <td>38260.00</td>\n",
       "      <td>38462.49</td>\n",
       "      <td>2551.473106</td>\n",
       "    </tr>\n",
       "    <tr>\n",
       "      <th>2</th>\n",
       "      <td>1642564800000</td>\n",
       "      <td>2022-01-19 04:00:00</td>\n",
       "      <td>BTCUSD</td>\n",
       "      <td>41712.63</td>\n",
       "      <td>42580.05</td>\n",
       "      <td>41156.28</td>\n",
       "      <td>41954.50</td>\n",
       "      <td>1214.411904</td>\n",
       "    </tr>\n",
       "    <tr>\n",
       "      <th>3</th>\n",
       "      <td>1642478400000</td>\n",
       "      <td>2022-01-18 04:00:00</td>\n",
       "      <td>BTCUSD</td>\n",
       "      <td>42052.76</td>\n",
       "      <td>42679.80</td>\n",
       "      <td>41281.06</td>\n",
       "      <td>41712.63</td>\n",
       "      <td>1130.901551</td>\n",
       "    </tr>\n",
       "    <tr>\n",
       "      <th>4</th>\n",
       "      <td>1642392000000</td>\n",
       "      <td>2022-01-17 04:00:00</td>\n",
       "      <td>BTCUSD</td>\n",
       "      <td>42655.12</td>\n",
       "      <td>42976.61</td>\n",
       "      <td>41559.11</td>\n",
       "      <td>42052.76</td>\n",
       "      <td>636.137418</td>\n",
       "    </tr>\n",
       "  </tbody>\n",
       "</table>\n",
       "</div>"
      ],
      "text/plain": [
       "   Unix Timestamp                 Date  Symbol      Open      High       Low  \\\n",
       "0   1642737600000  2022-01-21 04:00:00  BTCUSD  38462.49  39289.82  35389.69   \n",
       "1   1642651200000  2022-01-20 04:00:00  BTCUSD  41954.50  43516.85  38260.00   \n",
       "2   1642564800000  2022-01-19 04:00:00  BTCUSD  41712.63  42580.05  41156.28   \n",
       "3   1642478400000  2022-01-18 04:00:00  BTCUSD  42052.76  42679.80  41281.06   \n",
       "4   1642392000000  2022-01-17 04:00:00  BTCUSD  42655.12  42976.61  41559.11   \n",
       "\n",
       "      Close       Volume  \n",
       "0  36356.59  3462.668751  \n",
       "1  38462.49  2551.473106  \n",
       "2  41954.50  1214.411904  \n",
       "3  41712.63  1130.901551  \n",
       "4  42052.76   636.137418  "
      ]
     },
     "execution_count": 2,
     "metadata": {},
     "output_type": "execute_result"
    }
   ],
   "source": [
    "training_set = pd.read_csv('../data/gemini_BTCUSD_day.csv')\n",
    "training_set.head()"
   ]
  },
  {
   "cell_type": "markdown",
   "metadata": {},
   "source": [
    "## Pre-processing the data"
   ]
  },
  {
   "cell_type": "code",
   "execution_count": 3,
   "metadata": {},
   "outputs": [
    {
     "data": {
      "text/html": [
       "<div>\n",
       "<style scoped>\n",
       "    .dataframe tbody tr th:only-of-type {\n",
       "        vertical-align: middle;\n",
       "    }\n",
       "\n",
       "    .dataframe tbody tr th {\n",
       "        vertical-align: top;\n",
       "    }\n",
       "\n",
       "    .dataframe thead th {\n",
       "        text-align: right;\n",
       "    }\n",
       "</style>\n",
       "<table border=\"1\" class=\"dataframe\">\n",
       "  <thead>\n",
       "    <tr style=\"text-align: right;\">\n",
       "      <th></th>\n",
       "      <th>Open</th>\n",
       "      <th>High</th>\n",
       "      <th>Low</th>\n",
       "      <th>Close</th>\n",
       "      <th>Volume</th>\n",
       "    </tr>\n",
       "  </thead>\n",
       "  <tbody>\n",
       "    <tr>\n",
       "      <th>0</th>\n",
       "      <td>38462.49</td>\n",
       "      <td>39289.82</td>\n",
       "      <td>35389.69</td>\n",
       "      <td>36356.59</td>\n",
       "      <td>3462.668751</td>\n",
       "    </tr>\n",
       "    <tr>\n",
       "      <th>1</th>\n",
       "      <td>41954.50</td>\n",
       "      <td>43516.85</td>\n",
       "      <td>38260.00</td>\n",
       "      <td>38462.49</td>\n",
       "      <td>2551.473106</td>\n",
       "    </tr>\n",
       "    <tr>\n",
       "      <th>2</th>\n",
       "      <td>41712.63</td>\n",
       "      <td>42580.05</td>\n",
       "      <td>41156.28</td>\n",
       "      <td>41954.50</td>\n",
       "      <td>1214.411904</td>\n",
       "    </tr>\n",
       "    <tr>\n",
       "      <th>3</th>\n",
       "      <td>42052.76</td>\n",
       "      <td>42679.80</td>\n",
       "      <td>41281.06</td>\n",
       "      <td>41712.63</td>\n",
       "      <td>1130.901551</td>\n",
       "    </tr>\n",
       "    <tr>\n",
       "      <th>4</th>\n",
       "      <td>42655.12</td>\n",
       "      <td>42976.61</td>\n",
       "      <td>41559.11</td>\n",
       "      <td>42052.76</td>\n",
       "      <td>636.137418</td>\n",
       "    </tr>\n",
       "  </tbody>\n",
       "</table>\n",
       "</div>"
      ],
      "text/plain": [
       "       Open      High       Low     Close       Volume\n",
       "0  38462.49  39289.82  35389.69  36356.59  3462.668751\n",
       "1  41954.50  43516.85  38260.00  38462.49  2551.473106\n",
       "2  41712.63  42580.05  41156.28  41954.50  1214.411904\n",
       "3  42052.76  42679.80  41281.06  41712.63  1130.901551\n",
       "4  42655.12  42976.61  41559.11  42052.76   636.137418"
      ]
     },
     "execution_count": 3,
     "metadata": {},
     "output_type": "execute_result"
    }
   ],
   "source": [
    "training_set = training_set[['Open', 'High', 'Low', 'Close','Volume']]\n",
    "\n",
    "# Appropriate scaling to avoid large values\n",
    "x_scaler = sk.MinMaxScaler(feature_range = (0, 1))\n",
    "y_scaler = sk.MinMaxScaler(feature_range = (0, 1))\n",
    "\n",
    "# Transforming into standardized data\n",
    "x_data = x_scaler.fit_transform(training_set)\n",
    "y_data = y_scaler.fit_transform(training_set[['High']])\n",
    "\n",
    "training_set.head()"
   ]
  },
  {
   "cell_type": "markdown",
   "metadata": {},
   "source": [
    "We define our own `Dataset` for convenience"
   ]
  },
  {
   "cell_type": "code",
   "execution_count": 4,
   "metadata": {},
   "outputs": [],
   "source": [
    "class MyDset(Dataset):\n",
    "\n",
    "    def __init__(self, data, target, window, future=0):\n",
    "        x_vals = []\n",
    "        y_vals = []\n",
    "        start = 0 + window \n",
    "        end = len(data) - future\n",
    "\n",
    "        for i in range(start, end):\n",
    "            x = data[(i-window):i,:]\n",
    "            y = target[i:(i+future),:]\n",
    "            x_vals.append(x)\n",
    "            y_vals.append(y)\n",
    "\n",
    "        tensor_x = torch.Tensor(x_vals)\n",
    "        tensor_y = torch.Tensor(y_vals)\n",
    "\n",
    "        self.data = tensor_x\n",
    "        self.target = tensor_y.flatten(1)\n",
    "    \n",
    "    def __getitem__(self, index):\n",
    "        x = self.data[index]\n",
    "        y = self.target[index]\n",
    "        return x, y\n",
    "    \n",
    "    def __len__(self):\n",
    "        return len(self.data)"
   ]
  },
  {
   "cell_type": "markdown",
   "metadata": {},
   "source": [
    "We create the `Dataloader` objects. We will reserve the `loader_test` for later."
   ]
  },
  {
   "cell_type": "code",
   "execution_count": 56,
   "metadata": {},
   "outputs": [],
   "source": [
    "future = 1\n",
    "window = 100\n",
    "set_train = MyDset(x_data, y_data, window=window, future = future)\n",
    "batch_size = 20\n",
    "train_split = int(0.8*(len(set_train)))\n",
    "\n",
    "loader_train = DataLoader(set_train, batch_size = batch_size,\\\n",
    "   sampler=sampler.SubsetRandomSampler(range(train_split)))\n",
    "   \n",
    "loader_test = DataLoader(set_train, batch_size = batch_size,\\\n",
    "   sampler=sampler.SubsetRandomSampler(range(train_split, len(set_train))))"
   ]
  },
  {
   "cell_type": "markdown",
   "metadata": {},
   "source": [
    "Debugging"
   ]
  },
  {
   "cell_type": "code",
   "execution_count": 57,
   "metadata": {},
   "outputs": [
    {
     "name": "stdout",
     "output_type": "stream",
     "text": [
      "torch.Size([20, 100, 5])\n",
      "tensor([0.0012])\n"
     ]
    }
   ],
   "source": [
    "for t, (x,y) in enumerate(loader_test):\n",
    "    print(x.shape)\n",
    "    print(y[0])\n",
    "    break"
   ]
  },
  {
   "cell_type": "markdown",
   "metadata": {},
   "source": [
    "## Implementing the model"
   ]
  },
  {
   "cell_type": "markdown",
   "metadata": {},
   "source": [
    "We use **LSTM** recurrent neural network with a fully connected layer."
   ]
  },
  {
   "cell_type": "code",
   "execution_count": 9,
   "metadata": {},
   "outputs": [],
   "source": [
    "class RNN(nn.Module):\n",
    "    '''Implement the LSTM model for forecasting.'''\n",
    "    def __init__(self, input_size, hidden_size, \\\n",
    "        num_layer, num_class = 1):\n",
    "\n",
    "        super(RNN, self).__init__()\n",
    "\n",
    "        self.device = device\n",
    "        self.input_size = input_size\n",
    "        self.hidden_size = hidden_size\n",
    "        self.num_layer = num_layer\n",
    "        self.num_class = num_class\n",
    "\n",
    "        self.lstm = nn.LSTM(input_size, hidden_size, num_layer, \\\n",
    "            batch_first = True) # initial hidden and cell state default 0\n",
    "\n",
    "        self.fc = nn.Linear(hidden_size, num_class)\n",
    "\n",
    "    def forward(self, input):\n",
    "\n",
    "\n",
    "        # # Hidden state\n",
    "        h0 = torch.zeros(self.num_layer, x.size(0), self.hidden_size).requires_grad_().to(self.device)\n",
    "\n",
    "        # # Cell state\n",
    "        c0 = torch.zeros(self.num_layer, x.size(0), self.hidden_size).requires_grad_().to(self.device)\n",
    "        \n",
    "        _ , (h_out, _) = self.lstm(input, (h0.detach(), c0.detach())) # output of LSTM is out,(hidden,cell)\n",
    "\n",
    "        output = h_out[0] # reshape to use linear for prediction\n",
    "\n",
    "        output = self.fc(output)\n",
    "\n",
    "        # output = F.tanh(output)\n",
    "\n",
    "        return output"
   ]
  },
  {
   "cell_type": "markdown",
   "metadata": {},
   "source": [
    "Testing and debugging"
   ]
  },
  {
   "cell_type": "code",
   "execution_count": 74,
   "metadata": {},
   "outputs": [
    {
     "data": {
      "text/plain": [
       "torch.Size([20, 1])"
      ]
     },
     "execution_count": 74,
     "metadata": {},
     "output_type": "execute_result"
    }
   ],
   "source": [
    "x = torch.zeros([20,100,5]).to(device)\n",
    "input_size = 5\n",
    "hidden_size = 16\n",
    "num_layer = 5\n",
    "num_class = future\n",
    "\n",
    "model = RNN(input_size, hidden_size, num_layer, num_class)\n",
    "model.to(device)\n",
    "model(x).shape"
   ]
  },
  {
   "cell_type": "markdown",
   "metadata": {},
   "source": [
    "# Training"
   ]
  },
  {
   "cell_type": "markdown",
   "metadata": {},
   "source": [
    "We train with *mean squared error* loss and optimizer *Adam*"
   ]
  },
  {
   "cell_type": "code",
   "execution_count": 87,
   "metadata": {},
   "outputs": [],
   "source": [
    "input_size = 5\n",
    "hidden_size = 5\n",
    "num_layer = 15\n",
    "num_class = future \n",
    "model = RNN(input_size, hidden_size, num_layer, num_class)\n",
    "model.to(device)\n",
    "\n",
    "learning_rate = 1e-3\n",
    "criterion = nn.L1Loss()\n",
    "optimizer = torch.optim.Adam(model.parameters(), lr=learning_rate)\n",
    "epochs = 50"
   ]
  },
  {
   "cell_type": "markdown",
   "metadata": {},
   "source": [
    "We actually observe some great fluctuations in training loss that have been masked by the scaling"
   ]
  },
  {
   "cell_type": "code",
   "execution_count": 88,
   "metadata": {},
   "outputs": [
    {
     "name": "stdout",
     "output_type": "stream",
     "text": [
      "Epoch 0 Iteration 0, loss = 0.15619139\n",
      "0\n",
      "Epoch 1 Iteration 0, loss = 0.06816739\n",
      "0\n",
      "Epoch 2 Iteration 0, loss = 0.04186062\n",
      "0\n",
      "Epoch 3 Iteration 0, loss = 0.00899936\n",
      "0\n",
      "Epoch 4 Iteration 0, loss = 0.01256592\n",
      "0\n",
      "Epoch 5 Iteration 0, loss = 0.01286588\n",
      "0\n",
      "Epoch 6 Iteration 0, loss = 0.00770229\n",
      "0\n",
      "Epoch 7 Iteration 0, loss = 0.00649118\n",
      "0\n",
      "Epoch 8 Iteration 0, loss = 0.01246574\n",
      "0\n",
      "Epoch 9 Iteration 0, loss = 0.00490084\n",
      "0\n",
      "Epoch 10 Iteration 0, loss = 0.00563922\n",
      "0\n",
      "Epoch 11 Iteration 0, loss = 0.00425771\n",
      "0\n",
      "Epoch 12 Iteration 0, loss = 0.00625242\n",
      "0\n",
      "Epoch 13 Iteration 0, loss = 0.00578608\n",
      "0\n",
      "Epoch 14 Iteration 0, loss = 0.01499867\n",
      "0\n",
      "Epoch 15 Iteration 0, loss = 0.00916197\n",
      "0\n",
      "Epoch 16 Iteration 0, loss = 0.01207839\n",
      "0\n",
      "Epoch 17 Iteration 0, loss = 0.01087852\n",
      "0\n",
      "Epoch 18 Iteration 0, loss = 0.00587316\n",
      "0\n",
      "Epoch 19 Iteration 0, loss = 0.00409589\n",
      "0\n",
      "Epoch 20 Iteration 0, loss = 0.00766573\n",
      "0\n",
      "Epoch 21 Iteration 0, loss = 0.01144217\n",
      "0\n",
      "Epoch 22 Iteration 0, loss = 0.00751547\n",
      "0\n",
      "Epoch 23 Iteration 0, loss = 0.00903048\n",
      "0\n",
      "Epoch 24 Iteration 0, loss = 0.00653166\n",
      "0\n",
      "Epoch 25 Iteration 0, loss = 0.00576052\n",
      "0\n",
      "Epoch 26 Iteration 0, loss = 0.00494609\n",
      "0\n",
      "Epoch 27 Iteration 0, loss = 0.00336748\n",
      "0\n",
      "Epoch 28 Iteration 0, loss = 0.00663948\n",
      "0\n",
      "Epoch 29 Iteration 0, loss = 0.00252008\n",
      "0\n",
      "Epoch 30 Iteration 0, loss = 0.00724480\n",
      "0\n",
      "Epoch 31 Iteration 0, loss = 0.00328270\n",
      "0\n",
      "Epoch 32 Iteration 0, loss = 0.00705708\n",
      "0\n",
      "Epoch 33 Iteration 0, loss = 0.01124590\n",
      "0\n",
      "Epoch 34 Iteration 0, loss = 0.00593022\n",
      "0\n",
      "Epoch 35 Iteration 0, loss = 0.00439851\n",
      "0\n",
      "Epoch 36 Iteration 0, loss = 0.00744257\n",
      "0\n",
      "Epoch 37 Iteration 0, loss = 0.00402480\n",
      "0\n",
      "Epoch 38 Iteration 0, loss = 0.00594573\n",
      "0\n",
      "Epoch 39 Iteration 0, loss = 0.01211857\n",
      "0\n",
      "Epoch 40 Iteration 0, loss = 0.00610336\n",
      "0\n",
      "Epoch 41 Iteration 0, loss = 0.00817896\n",
      "0\n",
      "Epoch 42 Iteration 0, loss = 0.00262138\n",
      "0\n",
      "Epoch 43 Iteration 0, loss = 0.00470371\n",
      "0\n",
      "Epoch 44 Iteration 0, loss = 0.00410001\n",
      "0\n",
      "Epoch 45 Iteration 0, loss = 0.00465746\n",
      "0\n",
      "Epoch 46 Iteration 0, loss = 0.00610349\n",
      "0\n",
      "Epoch 47 Iteration 0, loss = 0.00403960\n",
      "0\n",
      "Epoch 48 Iteration 0, loss = 0.00671269\n",
      "0\n",
      "Epoch 49 Iteration 0, loss = 0.00496878\n",
      "0\n"
     ]
    },
    {
     "data": {
      "text/plain": [
       "Text(0.5, 1.0, 'Training Loss')"
      ]
     },
     "execution_count": 88,
     "metadata": {},
     "output_type": "execute_result"
    },
    {
     "data": {
      "image/png": "[encoded data removed]",
      "text/plain": [
       "<Figure size 432x288 with 1 Axes>"
      ]
     },
     "metadata": {
      "needs_background": "light"
     },
     "output_type": "display_data"
    }
   ],
   "source": [
    "_loss = []\n",
    "loss_plot = []\n",
    "\n",
    "print_every = 100\n",
    "for e in range(epochs):\n",
    "\n",
    "    for t, (x,y) in enumerate(loader_train):\n",
    "\n",
    "        model.train()  # put model to training mode\n",
    "\n",
    "        x = x.to(device=device, dtype=torch.float32)\n",
    "        y = y.to(device=device, dtype=torch.float32)\n",
    "\n",
    "        scores = model(x)\n",
    "        \n",
    "        loss = criterion(scores, y)\n",
    "\n",
    "        optimizer.zero_grad()\n",
    "\n",
    "        loss.backward()\n",
    "\n",
    "        optimizer.step()\n",
    "\n",
    "        if t % print_every == 0:\n",
    "            print('Epoch %d Iteration %d, loss = %.8f' % (e, t, loss.item()))\n",
    "            _loss.append(loss)\n",
    "            print(t)\n",
    "\n",
    "    torch.save(model.state_dict(), 'LSTM.ckpt')\n",
    "for loss in _loss:\n",
    "    loss = loss.to('cpu')\n",
    "    loss = loss.item()*100\n",
    "    loss_plot.append(loss)\n",
    "    \n",
    "# print(loss_plot)\n",
    "plt.plot(loss_plot)\n",
    "plt.title(\"Training Loss\")"
   ]
  },
  {
   "cell_type": "markdown",
   "metadata": {},
   "source": [
    "# Testing"
   ]
  },
  {
   "cell_type": "markdown",
   "metadata": {},
   "source": [
    "We examine the *loss* on unseen part of the data and evaluate the model's performance in a handwavy way"
   ]
  },
  {
   "cell_type": "code",
   "execution_count": 89,
   "metadata": {},
   "outputs": [
    {
     "data": {
      "text/plain": [
       "[<matplotlib.lines.Line2D at 0x16632138c40>]"
      ]
     },
     "execution_count": 89,
     "metadata": {},
     "output_type": "execute_result"
    },
    {
     "data": {
      "image/png": "[encoded data removed]",
      "text/plain": [
       "<Figure size 432x288 with 1 Axes>"
      ]
     },
     "metadata": {
      "needs_background": "light"
     },
     "output_type": "display_data"
    }
   ],
   "source": [
    "epochs = 1\n",
    "\n",
    "true_y = None\n",
    "prev_x = None\n",
    "pred_y = None\n",
    "\n",
    "for e in range(epochs):\n",
    "    for t, (x,y) in enumerate(loader_test):\n",
    "        with torch.no_grad():\n",
    "            \n",
    "            x = x.to(device=device, dtype=torch.float32)\n",
    "            y = y.to(device=device, dtype=torch.float32)\n",
    "            \n",
    "            pred_y = model(x).to('cpu')\n",
    "\n",
    "            prev_x = x.to('cpu')\n",
    "            true_y = y.to('cpu')\n",
    "\n",
    "            break\n",
    "\n",
    "# fig, axs = plt.subplots(2)\n",
    "# axs[0].plot(y_scaler.inverse_transform(pred_y))\n",
    "# axs[1].plot(y_scaler.inverse_transform(true_y))\n",
    "\n",
    "plt.plot(y_scaler.inverse_transform(pred_y))\n",
    "plt.plot(y_scaler.inverse_transform(true_y))\n"
   ]
  },
  {
   "cell_type": "markdown",
   "metadata": {},
   "source": [
    "We provide an example to visualize this"
   ]
  },
  {
   "cell_type": "code",
   "execution_count": 110,
   "metadata": {},
   "outputs": [
    {
     "name": "stdout",
     "output_type": "stream",
     "text": [
      "torch.Size([20, 50])\n"
     ]
    }
   ],
   "source": [
    "# predicted = y_scaler.inverse_transform(predicted)\n",
    "# with torch.no_grad():\n",
    "#     predicted = y_scaler.inverse_transform(predicted)[0]\n",
    "#     test_y = y_scaler.inverse_transform(test_y)[0]\n",
    "\n",
    "# plt.figure(figsize=(10,5))\n",
    "# plt.plot(predicted)\n"
   ]
  },
  {
   "cell_type": "code",
   "execution_count": 98,
   "metadata": {},
   "outputs": [
    {
     "data": {
      "text/plain": [
       "[<matplotlib.lines.Line2D at 0x1b857e09400>]"
      ]
     },
     "execution_count": 98,
     "metadata": {},
     "output_type": "execute_result"
    },
    {
     "data": {
      "image/png": "[encoded data removed]",
      "text/plain": [
       "<Figure size 432x288 with 1 Axes>"
      ]
     },
     "metadata": {
      "needs_background": "light"
     },
     "output_type": "display_data"
    }
   ],
   "source": [
    "# test_y = y_scaler.inverse_transform(test_y)\n",
    "\n",
    "plt.plot(test_y)"
   ]
  },
  {
   "cell_type": "code",
   "execution_count": 99,
   "metadata": {},
   "outputs": [
    {
     "data": {
      "text/plain": [
       "<matplotlib.legend.Legend at 0x1b857e7b9d0>"
      ]
     },
     "execution_count": 99,
     "metadata": {},
     "output_type": "execute_result"
    },
    {
     "data": {
      "image/png": "[encoded data removed]",
      "text/plain": [
       "<Figure size 432x288 with 1 Axes>"
      ]
     },
     "metadata": {
      "needs_background": "light"
     },
     "output_type": "display_data"
    }
   ],
   "source": [
    "plt.plot(test_y, label=\"real\")\n",
    "plt.plot(predicted, label=\"predicted\")\n",
    "plt.legend()\n"
   ]
  },
  {
   "cell_type": "code",
   "execution_count": 100,
   "metadata": {},
   "outputs": [
    {
     "data": {
      "text/plain": [
       "<All keys matched successfully>"
      ]
     },
     "execution_count": 100,
     "metadata": {},
     "output_type": "execute_result"
    }
   ],
   "source": [
    "input_size = 5\n",
    "hidden_size = 10\n",
    "num_layer = 1\n",
    "num_class = future\n",
    "model = RNN(input_size, hidden_size, num_layer, num_class)\n",
    "\n",
    "model.load_state_dict(torch.load(\"..\\src\\LSTM.ckpt\"))"
   ]
  },
  {
   "cell_type": "code",
   "execution_count": null,
   "metadata": {},
   "outputs": [],
   "source": []
  }
 ],
 "metadata": {
  "interpreter": {
   "hash": "a3f9fbbaa18250e09d861f666ab05e97085a7241115cb1945ae796667bcb838e"
  },
  "kernelspec": {
   "display_name": "Python 3.8.12 64-bit ('base': conda)",
   "language": "python",
   "name": "python3"
  },
  "language_info": {
   "codemirror_mode": {
    "name": "ipython",
    "version": 3
   },
   "file_extension": ".py",
   "mimetype": "text/x-python",
   "name": "python",
   "nbconvert_exporter": "python",
   "pygments_lexer": "ipython3",
   "version": "3.8.12"
  },
  "orig_nbformat": 4
 },
 "nbformat": 4,
 "nbformat_minor": 2
}
